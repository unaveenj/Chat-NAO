{
 "cells": [
  {
   "cell_type": "code",
   "execution_count": 1,
   "id": "resistant-lease",
   "metadata": {},
   "outputs": [],
   "source": [
    "import requests"
   ]
  },
  {
   "cell_type": "code",
   "execution_count": 3,
   "id": "growing-grade",
   "metadata": {},
   "outputs": [],
   "source": [
    "response = requests.get(\"https://quotes.rest/qod?language=en\")"
   ]
  },
  {
   "cell_type": "code",
   "execution_count": 5,
   "id": "characteristic-japanese",
   "metadata": {},
   "outputs": [],
   "source": [
    "json_resp=response.json()\n",
    "quote = json_resp[\"contents\"][\"quotes\"][0][\"quote\"]"
   ]
  },
  {
   "cell_type": "code",
   "execution_count": 8,
   "id": "stretch-shell",
   "metadata": {},
   "outputs": [
    {
     "name": "stdout",
     "output_type": "stream",
     "text": [
      "I keep asking myself these three questions.. What do you have? What do you want? What will you give up?\n"
     ]
    }
   ],
   "source": [
    "print (quote)"
   ]
  },
  {
   "cell_type": "code",
   "execution_count": 10,
   "id": "adopted-glasgow",
   "metadata": {},
   "outputs": [
    {
     "name": "stdout",
     "output_type": "stream",
     "text": [
      "I keep asking myself these three questions.. What do you have? What do you want? What will you give up?\n"
     ]
    }
   ],
   "source": [
    "import requests\n",
    "response = requests.get(\"https://quotes.rest/qod?language=en\")\n",
    "json_resp=response.json()\n",
    "quote = json_resp[\"contents\"][\"quotes\"][0][\"quote\"]\n",
    "print (quote)"
   ]
  },
  {
   "cell_type": "code",
   "execution_count": null,
   "id": "separated-concept",
   "metadata": {},
   "outputs": [],
   "source": []
  }
 ],
 "metadata": {
  "kernelspec": {
   "display_name": "Python 3",
   "language": "python",
   "name": "python3"
  },
  "language_info": {
   "codemirror_mode": {
    "name": "ipython",
    "version": 3
   },
   "file_extension": ".py",
   "mimetype": "text/x-python",
   "name": "python",
   "nbconvert_exporter": "python",
   "pygments_lexer": "ipython3",
   "version": "3.6.12"
  }
 },
 "nbformat": 4,
 "nbformat_minor": 5
}
