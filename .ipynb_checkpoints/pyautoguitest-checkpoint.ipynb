{
 "cells": [
  {
   "cell_type": "code",
   "execution_count": 14,
   "id": "improved-planning",
   "metadata": {},
   "outputs": [],
   "source": [
    "import pyautogui\n",
    "import time"
   ]
  },
  {
   "cell_type": "code",
   "execution_count": 4,
   "id": "binary-marriage",
   "metadata": {},
   "outputs": [
    {
     "name": "stdout",
     "output_type": "stream",
     "text": [
      "Screen size is (1920, 1080)\n"
     ]
    }
   ],
   "source": [
    "screenWidth, screenHeight = pyautogui.size()\n",
    "print(f\"Screen size is {screenWidth, screenHeight}\")"
   ]
  },
  {
   "cell_type": "code",
   "execution_count": 20,
   "id": "pending-nurse",
   "metadata": {},
   "outputs": [],
   "source": [
    "pyautogui.moveTo(660, 1060)\n",
    "time.sleep(2)\n",
    "pyautogui.moveTo(660, 1000)\n",
    "pyautogui.click()\n",
    "pyautogui.hotkey('ctrl', 'c')"
   ]
  },
  {
   "cell_type": "code",
   "execution_count": null,
   "id": "through-reality",
   "metadata": {},
   "outputs": [],
   "source": []
  }
 ],
 "metadata": {
  "kernelspec": {
   "display_name": "Python 3",
   "language": "python",
   "name": "python3"
  },
  "language_info": {
   "codemirror_mode": {
    "name": "ipython",
    "version": 3
   },
   "file_extension": ".py",
   "mimetype": "text/x-python",
   "name": "python",
   "nbconvert_exporter": "python",
   "pygments_lexer": "ipython3",
   "version": "3.6.12"
  }
 },
 "nbformat": 4,
 "nbformat_minor": 5
}
